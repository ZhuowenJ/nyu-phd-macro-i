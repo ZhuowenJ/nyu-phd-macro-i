{
 "cells": [
  {
   "cell_type": "markdown",
   "id": "608b4a11",
   "metadata": {},
   "source": [
    "# How to set up the Python environment for the macro class\n",
    "This document describes the setup, and is based primarily on the instructions from the [QuantEcon](https://www.quantecon.org) website. In particular, the following is a simplification (with some additional details) of the excellent [Python programming](https://python-programming.quantecon.org/) tutorial.\n"
   ]
  },
  {
   "cell_type": "markdown",
   "id": "2e1a8ceb",
   "metadata": {},
   "source": [
    "## Installation\n",
    "- Download the free open source [individual edition of Anaconda](https://www.anaconda.com/products/individual). This includes Python and Jupyter environment.\n",
    "- Open a termina/Anaconda command prompt from the start menu and update packages by executing the command <tt><b>conda update anaconda</b></tt>.\n",
    "- To start a new Jupyter notebook from the terminal, navigate to your preferred work directory and then execute <tt><b>jupyter notebook</b></tt>.\n",
    "- If you prefer to start Jupyter from the applications menu, run the <b>Jupyter notebook</b> item. In order to start Juypter environment in your preferred directory, you may want to alter the <b>Target</b> field of the Jupyter notebook shortcut and replace \"%USERPROFILE%/\" with your preferred directory, e.g., \"C:/mywork/\".\n",
    "- Install required libraries using the <tt><b>conda</b></tt> tool. For example, add the <b>QuantEcon</b> library using <tt><b>!conda install quantecon</b></tt> from a Jupiter cell, or using <tt><b>conda install quantecon</b></tt> from the terminal."
   ]
  },
  {
   "cell_type": "markdown",
   "id": "8c885ad6",
   "metadata": {},
   "source": [
    "## Useful tools\n",
    "- <b>Jupyter</b> - browser interface for Python code, enables modal combination of code and markdown text, HTML (directly use markup in the text), etc. Files are stored as JSON files with ipynb extension and can be shared directly. Start using <tt><b>jupyter notebook</b></tt>.\n",
    "- <b>conda</b> - a tool for administering the Anaconda environment, e.g., library installation. \n",
    "- <b>Jupyter-lab</b> - integrated development environment built on top of Jupiter, for example for managing Python files, or exporting ipynb files into latex or HTML.\n",
    "- <b>nbviewer</b> - web-based service to interpret and render Jupyter ipynb notebooks.\n",
    "- <b>GitHub</b> - website repository for version control, project sharing and collaboration."
   ]
  },
  {
   "cell_type": "markdown",
   "id": "57f5c7d6",
   "metadata": {},
   "source": [
    "## Jupyter useful information\n",
    "### Starting a notebook\n",
    "By default, starting Jupiter opens a terminal which creates a virtual server that can be accessed through the browser. For example, the terminal will announce <tt><b>Jupiter notebook is running at: http://localhost:8888/</b></tt>. This virtual server then can be accessed from any browser window on the computer at the given localhost address and port.\n",
    "### Language tips\n",
    "- <b>Tab completion</b> - press <tt><b>Tab</b></tt> to see available commands starting with the pre-typed letters.\n",
    "- <b>Help</b> - add <tt><b>?</b></tt> to the end of the command and execute.\n",
    "- <b>Latex Math<b> - use <tt><b>$</b></tt> or <tt><b>$$</b></tt> to insert math symbols and equations.\n",
    "- <b>HTML</b> - use angle brackets as in HTML\n",
    "- <b>cell magics</b> - conditional cell formatting. For example, start the cell with the <tt><b>%%html</b></tt> command to render the cell as an HTML block, <tt><b>%%file filename</b></tt> to write the content of the cell into a file, <tt><b>%%bash</b></tt> for command line input, <tt><b>%%latex</b></tt> for latex code.  For details, see [cell magics documentation](https://ipython.readthedocs.io/en/stable/interactive/magics.html#cell-magics)"
   ]
  },
  {
   "cell_type": "markdown",
   "id": "1fd939a9",
   "metadata": {},
   "source": [
    "## Document organization\n",
    "- PDF of the lecture notes and slides\n",
    "- Matlab and Jupyter/Python codes\n",
    "- <b>GitHub repository</b> - local folder <tt><b>github/nyu-phd-macro-i</b></tt> added to GitHub Desktop"
   ]
  }
 ],
 "metadata": {
  "kernelspec": {
   "display_name": "Python 3",
   "language": "python",
   "name": "python3"
  },
  "language_info": {
   "codemirror_mode": {
    "name": "ipython",
    "version": 3
   },
   "file_extension": ".py",
   "mimetype": "text/x-python",
   "name": "python",
   "nbconvert_exporter": "python",
   "pygments_lexer": "ipython3",
   "version": "3.8.8"
  }
 },
 "nbformat": 4,
 "nbformat_minor": 5
}
